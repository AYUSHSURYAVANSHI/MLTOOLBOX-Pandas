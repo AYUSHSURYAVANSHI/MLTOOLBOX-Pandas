{
 "cells": [
  {
   "cell_type": "code",
   "execution_count": 1,
   "id": "3d46f0fe-130c-4070-9da7-c04739ca9a1b",
   "metadata": {},
   "outputs": [],
   "source": [
    "import pandas as pd"
   ]
  },
  {
   "cell_type": "code",
   "execution_count": 2,
   "id": "71efe2f5-8c24-492b-b97a-de794ae664ee",
   "metadata": {},
   "outputs": [],
   "source": [
    "data = {'a' : [1,2,3,4,5],\n",
    "        'b' : [3,4,5,6,6],\n",
    "        'c' : [2,3,4,5,1]\n",
    "}\n"
   ]
  },
  {
   "cell_type": "code",
   "execution_count": 3,
   "id": "6cdbff5f-b99e-4bed-8b15-fe51e2c4dbf6",
   "metadata": {},
   "outputs": [],
   "source": [
    "df = pd.DataFrame(data)"
   ]
  },
  {
   "cell_type": "code",
   "execution_count": 4,
   "id": "bdc5183e-e1a2-4e0a-8922-2078a0e7a9e6",
   "metadata": {},
   "outputs": [
    {
     "data": {
      "text/html": [
       "<div>\n",
       "<style scoped>\n",
       "    .dataframe tbody tr th:only-of-type {\n",
       "        vertical-align: middle;\n",
       "    }\n",
       "\n",
       "    .dataframe tbody tr th {\n",
       "        vertical-align: top;\n",
       "    }\n",
       "\n",
       "    .dataframe thead th {\n",
       "        text-align: right;\n",
       "    }\n",
       "</style>\n",
       "<table border=\"1\" class=\"dataframe\">\n",
       "  <thead>\n",
       "    <tr style=\"text-align: right;\">\n",
       "      <th></th>\n",
       "      <th>a</th>\n",
       "      <th>b</th>\n",
       "      <th>c</th>\n",
       "    </tr>\n",
       "  </thead>\n",
       "  <tbody>\n",
       "    <tr>\n",
       "      <th>0</th>\n",
       "      <td>1</td>\n",
       "      <td>3</td>\n",
       "      <td>2</td>\n",
       "    </tr>\n",
       "    <tr>\n",
       "      <th>1</th>\n",
       "      <td>2</td>\n",
       "      <td>4</td>\n",
       "      <td>3</td>\n",
       "    </tr>\n",
       "    <tr>\n",
       "      <th>2</th>\n",
       "      <td>3</td>\n",
       "      <td>5</td>\n",
       "      <td>4</td>\n",
       "    </tr>\n",
       "    <tr>\n",
       "      <th>3</th>\n",
       "      <td>4</td>\n",
       "      <td>6</td>\n",
       "      <td>5</td>\n",
       "    </tr>\n",
       "    <tr>\n",
       "      <th>4</th>\n",
       "      <td>5</td>\n",
       "      <td>6</td>\n",
       "      <td>1</td>\n",
       "    </tr>\n",
       "  </tbody>\n",
       "</table>\n",
       "</div>"
      ],
      "text/plain": [
       "   a  b  c\n",
       "0  1  3  2\n",
       "1  2  4  3\n",
       "2  3  5  4\n",
       "3  4  6  5\n",
       "4  5  6  1"
      ]
     },
     "execution_count": 4,
     "metadata": {},
     "output_type": "execute_result"
    }
   ],
   "source": [
    "df"
   ]
  },
  {
   "cell_type": "code",
   "execution_count": 5,
   "id": "6d5ca5d4-5426-4391-ba60-6c51b231df49",
   "metadata": {},
   "outputs": [
    {
     "data": {
      "text/html": [
       "<div>\n",
       "<style scoped>\n",
       "    .dataframe tbody tr th:only-of-type {\n",
       "        vertical-align: middle;\n",
       "    }\n",
       "\n",
       "    .dataframe tbody tr th {\n",
       "        vertical-align: top;\n",
       "    }\n",
       "\n",
       "    .dataframe thead th {\n",
       "        text-align: right;\n",
       "    }\n",
       "</style>\n",
       "<table border=\"1\" class=\"dataframe\">\n",
       "  <thead>\n",
       "    <tr style=\"text-align: right;\">\n",
       "      <th></th>\n",
       "      <th>b</th>\n",
       "      <th>c</th>\n",
       "    </tr>\n",
       "    <tr>\n",
       "      <th>a</th>\n",
       "      <th></th>\n",
       "      <th></th>\n",
       "    </tr>\n",
       "  </thead>\n",
       "  <tbody>\n",
       "    <tr>\n",
       "      <th>1</th>\n",
       "      <td>3</td>\n",
       "      <td>2</td>\n",
       "    </tr>\n",
       "    <tr>\n",
       "      <th>2</th>\n",
       "      <td>4</td>\n",
       "      <td>3</td>\n",
       "    </tr>\n",
       "    <tr>\n",
       "      <th>3</th>\n",
       "      <td>5</td>\n",
       "      <td>4</td>\n",
       "    </tr>\n",
       "    <tr>\n",
       "      <th>4</th>\n",
       "      <td>6</td>\n",
       "      <td>5</td>\n",
       "    </tr>\n",
       "    <tr>\n",
       "      <th>5</th>\n",
       "      <td>6</td>\n",
       "      <td>1</td>\n",
       "    </tr>\n",
       "  </tbody>\n",
       "</table>\n",
       "</div>"
      ],
      "text/plain": [
       "   b  c\n",
       "a      \n",
       "1  3  2\n",
       "2  4  3\n",
       "3  5  4\n",
       "4  6  5\n",
       "5  6  1"
      ]
     },
     "execution_count": 5,
     "metadata": {},
     "output_type": "execute_result"
    }
   ],
   "source": [
    "df.set_index('a')"
   ]
  },
  {
   "cell_type": "code",
   "execution_count": 6,
   "id": "a022f64a-4b7b-4fc8-8790-c6a611401a37",
   "metadata": {},
   "outputs": [],
   "source": [
    "df.set_index('a',inplace = True)"
   ]
  },
  {
   "cell_type": "code",
   "execution_count": 7,
   "id": "102c9c7d-cbb6-4199-98ce-634ca3059be9",
   "metadata": {},
   "outputs": [
    {
     "data": {
      "text/html": [
       "<div>\n",
       "<style scoped>\n",
       "    .dataframe tbody tr th:only-of-type {\n",
       "        vertical-align: middle;\n",
       "    }\n",
       "\n",
       "    .dataframe tbody tr th {\n",
       "        vertical-align: top;\n",
       "    }\n",
       "\n",
       "    .dataframe thead th {\n",
       "        text-align: right;\n",
       "    }\n",
       "</style>\n",
       "<table border=\"1\" class=\"dataframe\">\n",
       "  <thead>\n",
       "    <tr style=\"text-align: right;\">\n",
       "      <th></th>\n",
       "      <th>b</th>\n",
       "      <th>c</th>\n",
       "    </tr>\n",
       "    <tr>\n",
       "      <th>a</th>\n",
       "      <th></th>\n",
       "      <th></th>\n",
       "    </tr>\n",
       "  </thead>\n",
       "  <tbody>\n",
       "    <tr>\n",
       "      <th>1</th>\n",
       "      <td>3</td>\n",
       "      <td>2</td>\n",
       "    </tr>\n",
       "    <tr>\n",
       "      <th>2</th>\n",
       "      <td>4</td>\n",
       "      <td>3</td>\n",
       "    </tr>\n",
       "    <tr>\n",
       "      <th>3</th>\n",
       "      <td>5</td>\n",
       "      <td>4</td>\n",
       "    </tr>\n",
       "    <tr>\n",
       "      <th>4</th>\n",
       "      <td>6</td>\n",
       "      <td>5</td>\n",
       "    </tr>\n",
       "    <tr>\n",
       "      <th>5</th>\n",
       "      <td>6</td>\n",
       "      <td>1</td>\n",
       "    </tr>\n",
       "  </tbody>\n",
       "</table>\n",
       "</div>"
      ],
      "text/plain": [
       "   b  c\n",
       "a      \n",
       "1  3  2\n",
       "2  4  3\n",
       "3  5  4\n",
       "4  6  5\n",
       "5  6  1"
      ]
     },
     "execution_count": 7,
     "metadata": {},
     "output_type": "execute_result"
    }
   ],
   "source": [
    "df"
   ]
  },
  {
   "cell_type": "code",
   "execution_count": 8,
   "id": "d4a069ef-1f15-4d86-8887-1ad4ec370d42",
   "metadata": {},
   "outputs": [],
   "source": [
    "df1=df.reset_index()"
   ]
  },
  {
   "cell_type": "code",
   "execution_count": 9,
   "id": "35b00757-553b-4afa-b51a-6ff4a39e6b39",
   "metadata": {},
   "outputs": [
    {
     "data": {
      "text/html": [
       "<div>\n",
       "<style scoped>\n",
       "    .dataframe tbody tr th:only-of-type {\n",
       "        vertical-align: middle;\n",
       "    }\n",
       "\n",
       "    .dataframe tbody tr th {\n",
       "        vertical-align: top;\n",
       "    }\n",
       "\n",
       "    .dataframe thead th {\n",
       "        text-align: right;\n",
       "    }\n",
       "</style>\n",
       "<table border=\"1\" class=\"dataframe\">\n",
       "  <thead>\n",
       "    <tr style=\"text-align: right;\">\n",
       "      <th></th>\n",
       "      <th>a</th>\n",
       "      <th>b</th>\n",
       "      <th>c</th>\n",
       "    </tr>\n",
       "  </thead>\n",
       "  <tbody>\n",
       "    <tr>\n",
       "      <th>0</th>\n",
       "      <td>1</td>\n",
       "      <td>3</td>\n",
       "      <td>2</td>\n",
       "    </tr>\n",
       "    <tr>\n",
       "      <th>1</th>\n",
       "      <td>2</td>\n",
       "      <td>4</td>\n",
       "      <td>3</td>\n",
       "    </tr>\n",
       "    <tr>\n",
       "      <th>2</th>\n",
       "      <td>3</td>\n",
       "      <td>5</td>\n",
       "      <td>4</td>\n",
       "    </tr>\n",
       "    <tr>\n",
       "      <th>3</th>\n",
       "      <td>4</td>\n",
       "      <td>6</td>\n",
       "      <td>5</td>\n",
       "    </tr>\n",
       "    <tr>\n",
       "      <th>4</th>\n",
       "      <td>5</td>\n",
       "      <td>6</td>\n",
       "      <td>1</td>\n",
       "    </tr>\n",
       "  </tbody>\n",
       "</table>\n",
       "</div>"
      ],
      "text/plain": [
       "   a  b  c\n",
       "0  1  3  2\n",
       "1  2  4  3\n",
       "2  3  5  4\n",
       "3  4  6  5\n",
       "4  5  6  1"
      ]
     },
     "execution_count": 9,
     "metadata": {},
     "output_type": "execute_result"
    }
   ],
   "source": [
    "df1"
   ]
  },
  {
   "cell_type": "code",
   "execution_count": 10,
   "id": "9d582ad5-70c7-4a52-a8d4-6cb0e7635779",
   "metadata": {},
   "outputs": [],
   "source": [
    "data = {'a' : [1,2,3,4,5],\n",
    "        'b' : [3,4,5,6,6],\n",
    "        'c' : [2,3,4,5,1]}\n",
    "df1 = pd.DataFrame(data,index = ['a','b','c','d','e'])\n"
   ]
  },
  {
   "cell_type": "code",
   "execution_count": 11,
   "id": "132e4197-07cb-4324-ba51-ce620680db59",
   "metadata": {},
   "outputs": [
    {
     "data": {
      "text/html": [
       "<div>\n",
       "<style scoped>\n",
       "    .dataframe tbody tr th:only-of-type {\n",
       "        vertical-align: middle;\n",
       "    }\n",
       "\n",
       "    .dataframe tbody tr th {\n",
       "        vertical-align: top;\n",
       "    }\n",
       "\n",
       "    .dataframe thead th {\n",
       "        text-align: right;\n",
       "    }\n",
       "</style>\n",
       "<table border=\"1\" class=\"dataframe\">\n",
       "  <thead>\n",
       "    <tr style=\"text-align: right;\">\n",
       "      <th></th>\n",
       "      <th>a</th>\n",
       "      <th>b</th>\n",
       "      <th>c</th>\n",
       "    </tr>\n",
       "  </thead>\n",
       "  <tbody>\n",
       "    <tr>\n",
       "      <th>a</th>\n",
       "      <td>1</td>\n",
       "      <td>3</td>\n",
       "      <td>2</td>\n",
       "    </tr>\n",
       "    <tr>\n",
       "      <th>b</th>\n",
       "      <td>2</td>\n",
       "      <td>4</td>\n",
       "      <td>3</td>\n",
       "    </tr>\n",
       "    <tr>\n",
       "      <th>c</th>\n",
       "      <td>3</td>\n",
       "      <td>5</td>\n",
       "      <td>4</td>\n",
       "    </tr>\n",
       "    <tr>\n",
       "      <th>d</th>\n",
       "      <td>4</td>\n",
       "      <td>6</td>\n",
       "      <td>5</td>\n",
       "    </tr>\n",
       "    <tr>\n",
       "      <th>e</th>\n",
       "      <td>5</td>\n",
       "      <td>6</td>\n",
       "      <td>1</td>\n",
       "    </tr>\n",
       "  </tbody>\n",
       "</table>\n",
       "</div>"
      ],
      "text/plain": [
       "   a  b  c\n",
       "a  1  3  2\n",
       "b  2  4  3\n",
       "c  3  5  4\n",
       "d  4  6  5\n",
       "e  5  6  1"
      ]
     },
     "execution_count": 11,
     "metadata": {},
     "output_type": "execute_result"
    }
   ],
   "source": [
    "df1"
   ]
  },
  {
   "cell_type": "code",
   "execution_count": 12,
   "id": "4026a4a3-5559-45d6-becb-8c7b36bcba16",
   "metadata": {},
   "outputs": [
    {
     "data": {
      "text/html": [
       "<div>\n",
       "<style scoped>\n",
       "    .dataframe tbody tr th:only-of-type {\n",
       "        vertical-align: middle;\n",
       "    }\n",
       "\n",
       "    .dataframe tbody tr th {\n",
       "        vertical-align: top;\n",
       "    }\n",
       "\n",
       "    .dataframe thead th {\n",
       "        text-align: right;\n",
       "    }\n",
       "</style>\n",
       "<table border=\"1\" class=\"dataframe\">\n",
       "  <thead>\n",
       "    <tr style=\"text-align: right;\">\n",
       "      <th></th>\n",
       "      <th>a</th>\n",
       "      <th>b</th>\n",
       "      <th>c</th>\n",
       "    </tr>\n",
       "  </thead>\n",
       "  <tbody>\n",
       "    <tr>\n",
       "      <th>a</th>\n",
       "      <td>1</td>\n",
       "      <td>3</td>\n",
       "      <td>2</td>\n",
       "    </tr>\n",
       "    <tr>\n",
       "      <th>b</th>\n",
       "      <td>2</td>\n",
       "      <td>4</td>\n",
       "      <td>3</td>\n",
       "    </tr>\n",
       "    <tr>\n",
       "      <th>c</th>\n",
       "      <td>3</td>\n",
       "      <td>5</td>\n",
       "      <td>4</td>\n",
       "    </tr>\n",
       "    <tr>\n",
       "      <th>d</th>\n",
       "      <td>4</td>\n",
       "      <td>6</td>\n",
       "      <td>5</td>\n",
       "    </tr>\n",
       "    <tr>\n",
       "      <th>e</th>\n",
       "      <td>5</td>\n",
       "      <td>6</td>\n",
       "      <td>1</td>\n",
       "    </tr>\n",
       "  </tbody>\n",
       "</table>\n",
       "</div>"
      ],
      "text/plain": [
       "   a  b  c\n",
       "a  1  3  2\n",
       "b  2  4  3\n",
       "c  3  5  4\n",
       "d  4  6  5\n",
       "e  5  6  1"
      ]
     },
     "execution_count": 12,
     "metadata": {},
     "output_type": "execute_result"
    }
   ],
   "source": [
    "df1\n"
   ]
  },
  {
   "cell_type": "code",
   "execution_count": 13,
   "id": "bec2f579-e85d-4a87-9713-94756a139c65",
   "metadata": {},
   "outputs": [
    {
     "data": {
      "text/html": [
       "<div>\n",
       "<style scoped>\n",
       "    .dataframe tbody tr th:only-of-type {\n",
       "        vertical-align: middle;\n",
       "    }\n",
       "\n",
       "    .dataframe tbody tr th {\n",
       "        vertical-align: top;\n",
       "    }\n",
       "\n",
       "    .dataframe thead th {\n",
       "        text-align: right;\n",
       "    }\n",
       "</style>\n",
       "<table border=\"1\" class=\"dataframe\">\n",
       "  <thead>\n",
       "    <tr style=\"text-align: right;\">\n",
       "      <th></th>\n",
       "      <th>b</th>\n",
       "      <th>c</th>\n",
       "    </tr>\n",
       "    <tr>\n",
       "      <th>a</th>\n",
       "      <th></th>\n",
       "      <th></th>\n",
       "    </tr>\n",
       "  </thead>\n",
       "  <tbody>\n",
       "    <tr>\n",
       "      <th>1</th>\n",
       "      <td>3</td>\n",
       "      <td>2</td>\n",
       "    </tr>\n",
       "    <tr>\n",
       "      <th>2</th>\n",
       "      <td>4</td>\n",
       "      <td>3</td>\n",
       "    </tr>\n",
       "    <tr>\n",
       "      <th>3</th>\n",
       "      <td>5</td>\n",
       "      <td>4</td>\n",
       "    </tr>\n",
       "    <tr>\n",
       "      <th>4</th>\n",
       "      <td>6</td>\n",
       "      <td>5</td>\n",
       "    </tr>\n",
       "    <tr>\n",
       "      <th>5</th>\n",
       "      <td>6</td>\n",
       "      <td>1</td>\n",
       "    </tr>\n",
       "  </tbody>\n",
       "</table>\n",
       "</div>"
      ],
      "text/plain": [
       "   b  c\n",
       "a      \n",
       "1  3  2\n",
       "2  4  3\n",
       "3  5  4\n",
       "4  6  5\n",
       "5  6  1"
      ]
     },
     "execution_count": 13,
     "metadata": {},
     "output_type": "execute_result"
    }
   ],
   "source": [
    "df"
   ]
  },
  {
   "cell_type": "code",
   "execution_count": 14,
   "id": "01e5b7de-5f73-41c3-a226-0e341cf52fde",
   "metadata": {},
   "outputs": [
    {
     "data": {
      "text/plain": [
       "<generator object DataFrame.iterrows at 0x7f7305715690>"
      ]
     },
     "execution_count": 14,
     "metadata": {},
     "output_type": "execute_result"
    }
   ],
   "source": [
    "df.iterrows()"
   ]
  },
  {
   "cell_type": "code",
   "execution_count": 15,
   "id": "45c50292-a360-4d15-a2b8-877e2334a9bc",
   "metadata": {},
   "outputs": [
    {
     "data": {
      "text/html": [
       "<div>\n",
       "<style scoped>\n",
       "    .dataframe tbody tr th:only-of-type {\n",
       "        vertical-align: middle;\n",
       "    }\n",
       "\n",
       "    .dataframe tbody tr th {\n",
       "        vertical-align: top;\n",
       "    }\n",
       "\n",
       "    .dataframe thead th {\n",
       "        text-align: right;\n",
       "    }\n",
       "</style>\n",
       "<table border=\"1\" class=\"dataframe\">\n",
       "  <thead>\n",
       "    <tr style=\"text-align: right;\">\n",
       "      <th></th>\n",
       "      <th>a</th>\n",
       "      <th>b</th>\n",
       "      <th>c</th>\n",
       "    </tr>\n",
       "  </thead>\n",
       "  <tbody>\n",
       "    <tr>\n",
       "      <th>a</th>\n",
       "      <td>1</td>\n",
       "      <td>3</td>\n",
       "      <td>2</td>\n",
       "    </tr>\n",
       "    <tr>\n",
       "      <th>b</th>\n",
       "      <td>2</td>\n",
       "      <td>4</td>\n",
       "      <td>3</td>\n",
       "    </tr>\n",
       "    <tr>\n",
       "      <th>c</th>\n",
       "      <td>3</td>\n",
       "      <td>5</td>\n",
       "      <td>4</td>\n",
       "    </tr>\n",
       "    <tr>\n",
       "      <th>d</th>\n",
       "      <td>4</td>\n",
       "      <td>6</td>\n",
       "      <td>5</td>\n",
       "    </tr>\n",
       "    <tr>\n",
       "      <th>e</th>\n",
       "      <td>5</td>\n",
       "      <td>6</td>\n",
       "      <td>1</td>\n",
       "    </tr>\n",
       "  </tbody>\n",
       "</table>\n",
       "</div>"
      ],
      "text/plain": [
       "   a  b  c\n",
       "a  1  3  2\n",
       "b  2  4  3\n",
       "c  3  5  4\n",
       "d  4  6  5\n",
       "e  5  6  1"
      ]
     },
     "execution_count": 15,
     "metadata": {},
     "output_type": "execute_result"
    }
   ],
   "source": [
    "df1"
   ]
  },
  {
   "cell_type": "code",
   "execution_count": 16,
   "id": "12349e9b-1e8b-4d30-9c7c-95f1d6181673",
   "metadata": {},
   "outputs": [
    {
     "data": {
      "text/plain": [
       "a    15\n",
       "b    24\n",
       "c    15\n",
       "dtype: int64"
      ]
     },
     "execution_count": 16,
     "metadata": {},
     "output_type": "execute_result"
    }
   ],
   "source": [
    "def test(x):\n",
    "    return x.sum()\n",
    "df1.apply(test)\n"
   ]
  },
  {
   "cell_type": "code",
   "execution_count": 17,
   "id": "146026eb-6e52-49be-9767-182809b2b242",
   "metadata": {},
   "outputs": [
    {
     "data": {
      "text/html": [
       "<div>\n",
       "<style scoped>\n",
       "    .dataframe tbody tr th:only-of-type {\n",
       "        vertical-align: middle;\n",
       "    }\n",
       "\n",
       "    .dataframe tbody tr th {\n",
       "        vertical-align: top;\n",
       "    }\n",
       "\n",
       "    .dataframe thead th {\n",
       "        text-align: right;\n",
       "    }\n",
       "</style>\n",
       "<table border=\"1\" class=\"dataframe\">\n",
       "  <thead>\n",
       "    <tr style=\"text-align: right;\">\n",
       "      <th></th>\n",
       "      <th>a</th>\n",
       "      <th>b</th>\n",
       "      <th>c</th>\n",
       "    </tr>\n",
       "  </thead>\n",
       "  <tbody>\n",
       "    <tr>\n",
       "      <th>a</th>\n",
       "      <td>1</td>\n",
       "      <td>9</td>\n",
       "      <td>4</td>\n",
       "    </tr>\n",
       "    <tr>\n",
       "      <th>b</th>\n",
       "      <td>4</td>\n",
       "      <td>16</td>\n",
       "      <td>9</td>\n",
       "    </tr>\n",
       "    <tr>\n",
       "      <th>c</th>\n",
       "      <td>9</td>\n",
       "      <td>25</td>\n",
       "      <td>16</td>\n",
       "    </tr>\n",
       "    <tr>\n",
       "      <th>d</th>\n",
       "      <td>16</td>\n",
       "      <td>36</td>\n",
       "      <td>25</td>\n",
       "    </tr>\n",
       "    <tr>\n",
       "      <th>e</th>\n",
       "      <td>25</td>\n",
       "      <td>36</td>\n",
       "      <td>1</td>\n",
       "    </tr>\n",
       "  </tbody>\n",
       "</table>\n",
       "</div>"
      ],
      "text/plain": [
       "    a   b   c\n",
       "a   1   9   4\n",
       "b   4  16   9\n",
       "c   9  25  16\n",
       "d  16  36  25\n",
       "e  25  36   1"
      ]
     },
     "execution_count": 17,
     "metadata": {},
     "output_type": "execute_result"
    }
   ],
   "source": [
    "df1.applymap(lambda x : x**2)"
   ]
  },
  {
   "cell_type": "code",
   "execution_count": 18,
   "id": "902322c8-dc76-4e2e-b823-9e2c63f317df",
   "metadata": {},
   "outputs": [],
   "source": [
    "# df.sort_value(\"c\")"
   ]
  },
  {
   "cell_type": "code",
   "execution_count": 19,
   "id": "a3879624-da8a-48b5-b56d-b3af67ec82d8",
   "metadata": {},
   "outputs": [
    {
     "data": {
      "text/html": [
       "<div>\n",
       "<style scoped>\n",
       "    .dataframe tbody tr th:only-of-type {\n",
       "        vertical-align: middle;\n",
       "    }\n",
       "\n",
       "    .dataframe tbody tr th {\n",
       "        vertical-align: top;\n",
       "    }\n",
       "\n",
       "    .dataframe thead th {\n",
       "        text-align: right;\n",
       "    }\n",
       "</style>\n",
       "<table border=\"1\" class=\"dataframe\">\n",
       "  <thead>\n",
       "    <tr style=\"text-align: right;\">\n",
       "      <th></th>\n",
       "      <th>b</th>\n",
       "      <th>c</th>\n",
       "    </tr>\n",
       "    <tr>\n",
       "      <th>a</th>\n",
       "      <th></th>\n",
       "      <th></th>\n",
       "    </tr>\n",
       "  </thead>\n",
       "  <tbody>\n",
       "    <tr>\n",
       "      <th>1</th>\n",
       "      <td>3</td>\n",
       "      <td>2</td>\n",
       "    </tr>\n",
       "    <tr>\n",
       "      <th>2</th>\n",
       "      <td>4</td>\n",
       "      <td>3</td>\n",
       "    </tr>\n",
       "    <tr>\n",
       "      <th>3</th>\n",
       "      <td>5</td>\n",
       "      <td>4</td>\n",
       "    </tr>\n",
       "    <tr>\n",
       "      <th>4</th>\n",
       "      <td>6</td>\n",
       "      <td>5</td>\n",
       "    </tr>\n",
       "    <tr>\n",
       "      <th>5</th>\n",
       "      <td>6</td>\n",
       "      <td>1</td>\n",
       "    </tr>\n",
       "  </tbody>\n",
       "</table>\n",
       "</div>"
      ],
      "text/plain": [
       "   b  c\n",
       "a      \n",
       "1  3  2\n",
       "2  4  3\n",
       "3  5  4\n",
       "4  6  5\n",
       "5  6  1"
      ]
     },
     "execution_count": 19,
     "metadata": {},
     "output_type": "execute_result"
    }
   ],
   "source": [
    "df"
   ]
  },
  {
   "cell_type": "code",
   "execution_count": 20,
   "id": "ba1e479d-c0a2-4c9f-8618-8d0cc0d6b2cd",
   "metadata": {},
   "outputs": [
    {
     "data": {
      "text/html": [
       "<div>\n",
       "<style scoped>\n",
       "    .dataframe tbody tr th:only-of-type {\n",
       "        vertical-align: middle;\n",
       "    }\n",
       "\n",
       "    .dataframe tbody tr th {\n",
       "        vertical-align: top;\n",
       "    }\n",
       "\n",
       "    .dataframe thead th {\n",
       "        text-align: right;\n",
       "    }\n",
       "</style>\n",
       "<table border=\"1\" class=\"dataframe\">\n",
       "  <thead>\n",
       "    <tr style=\"text-align: right;\">\n",
       "      <th></th>\n",
       "      <th>b</th>\n",
       "      <th>c</th>\n",
       "    </tr>\n",
       "    <tr>\n",
       "      <th>a</th>\n",
       "      <th></th>\n",
       "      <th></th>\n",
       "    </tr>\n",
       "  </thead>\n",
       "  <tbody>\n",
       "    <tr>\n",
       "      <th>1</th>\n",
       "      <td>3</td>\n",
       "      <td>2</td>\n",
       "    </tr>\n",
       "    <tr>\n",
       "      <th>2</th>\n",
       "      <td>4</td>\n",
       "      <td>3</td>\n",
       "    </tr>\n",
       "    <tr>\n",
       "      <th>3</th>\n",
       "      <td>5</td>\n",
       "      <td>4</td>\n",
       "    </tr>\n",
       "    <tr>\n",
       "      <th>4</th>\n",
       "      <td>6</td>\n",
       "      <td>5</td>\n",
       "    </tr>\n",
       "    <tr>\n",
       "      <th>5</th>\n",
       "      <td>6</td>\n",
       "      <td>1</td>\n",
       "    </tr>\n",
       "  </tbody>\n",
       "</table>\n",
       "</div>"
      ],
      "text/plain": [
       "   b  c\n",
       "a      \n",
       "1  3  2\n",
       "2  4  3\n",
       "3  5  4\n",
       "4  6  5\n",
       "5  6  1"
      ]
     },
     "execution_count": 20,
     "metadata": {},
     "output_type": "execute_result"
    }
   ],
   "source": [
    "df.sort_index()"
   ]
  },
  {
   "cell_type": "code",
   "execution_count": 21,
   "id": "e2fff6ac-c6d2-44f2-b59e-41d668640349",
   "metadata": {},
   "outputs": [
    {
     "data": {
      "text/html": [
       "<div>\n",
       "<style scoped>\n",
       "    .dataframe tbody tr th:only-of-type {\n",
       "        vertical-align: middle;\n",
       "    }\n",
       "\n",
       "    .dataframe tbody tr th {\n",
       "        vertical-align: top;\n",
       "    }\n",
       "\n",
       "    .dataframe thead th {\n",
       "        text-align: right;\n",
       "    }\n",
       "</style>\n",
       "<table border=\"1\" class=\"dataframe\">\n",
       "  <thead>\n",
       "    <tr style=\"text-align: right;\">\n",
       "      <th></th>\n",
       "      <th>b</th>\n",
       "      <th>c</th>\n",
       "    </tr>\n",
       "    <tr>\n",
       "      <th>a</th>\n",
       "      <th></th>\n",
       "      <th></th>\n",
       "    </tr>\n",
       "  </thead>\n",
       "  <tbody>\n",
       "    <tr>\n",
       "      <th>5</th>\n",
       "      <td>6</td>\n",
       "      <td>1</td>\n",
       "    </tr>\n",
       "    <tr>\n",
       "      <th>4</th>\n",
       "      <td>6</td>\n",
       "      <td>5</td>\n",
       "    </tr>\n",
       "    <tr>\n",
       "      <th>3</th>\n",
       "      <td>5</td>\n",
       "      <td>4</td>\n",
       "    </tr>\n",
       "    <tr>\n",
       "      <th>2</th>\n",
       "      <td>4</td>\n",
       "      <td>3</td>\n",
       "    </tr>\n",
       "    <tr>\n",
       "      <th>1</th>\n",
       "      <td>3</td>\n",
       "      <td>2</td>\n",
       "    </tr>\n",
       "  </tbody>\n",
       "</table>\n",
       "</div>"
      ],
      "text/plain": [
       "   b  c\n",
       "a      \n",
       "5  6  1\n",
       "4  6  5\n",
       "3  5  4\n",
       "2  4  3\n",
       "1  3  2"
      ]
     },
     "execution_count": 21,
     "metadata": {},
     "output_type": "execute_result"
    }
   ],
   "source": [
    "df.sort_index(ascending = False)"
   ]
  },
  {
   "cell_type": "code",
   "execution_count": 22,
   "id": "fc52b137-39c8-412a-9dd5-493607195b44",
   "metadata": {},
   "outputs": [],
   "source": [
    "pd.set_option(\"display.max_colwidth\",1000)\n",
    "df3 = pd.DataFrame({\"desc\":[\"The Full Stack Data Science course by PWSkills offers a comprehensive curriculum that equips learners with the skills and knowledge to excel in the rapidly evolving field of data science. Through hands-on projects and industry-relevant case studies, students will gain proficiency in every stage of the data science lifecycle. From data collection and preprocessing to exploratory analysis, machine learning, and data visualization, this course covers the entire spectrum. Additionally, students will learn to develop robust and scalable data-driven applications, leveraging technologies such as Python, SQL, and popular data science libraries. Join us to become a well-rounded data science professional capable of tackling real-world challenges.\"]})"
   ]
  },
  {
   "cell_type": "code",
   "execution_count": 23,
   "id": "e6724116-81e4-4661-817d-6de637745220",
   "metadata": {},
   "outputs": [
    {
     "data": {
      "text/html": [
       "<div>\n",
       "<style scoped>\n",
       "    .dataframe tbody tr th:only-of-type {\n",
       "        vertical-align: middle;\n",
       "    }\n",
       "\n",
       "    .dataframe tbody tr th {\n",
       "        vertical-align: top;\n",
       "    }\n",
       "\n",
       "    .dataframe thead th {\n",
       "        text-align: right;\n",
       "    }\n",
       "</style>\n",
       "<table border=\"1\" class=\"dataframe\">\n",
       "  <thead>\n",
       "    <tr style=\"text-align: right;\">\n",
       "      <th></th>\n",
       "      <th>desc</th>\n",
       "    </tr>\n",
       "  </thead>\n",
       "  <tbody>\n",
       "    <tr>\n",
       "      <th>0</th>\n",
       "      <td>The Full Stack Data Science course by PWSkills offers a comprehensive curriculum that equips learners with the skills and knowledge to excel in the rapidly evolving field of data science. Through hands-on projects and industry-relevant case studies, students will gain proficiency in every stage of the data science lifecycle. From data collection and preprocessing to exploratory analysis, machine learning, and data visualization, this course covers the entire spectrum. Additionally, students will learn to develop robust and scalable data-driven applications, leveraging technologies such as Python, SQL, and popular data science libraries. Join us to become a well-rounded data science professional capable of tackling real-world challenges.</td>\n",
       "    </tr>\n",
       "  </tbody>\n",
       "</table>\n",
       "</div>"
      ],
      "text/plain": [
       "                                                                                                                                                                                                                                                                                                                                                                                                                                                                                                                                                                                                                                                                                                                                                                         desc\n",
       "0  The Full Stack Data Science course by PWSkills offers a comprehensive curriculum that equips learners with the skills and knowledge to excel in the rapidly evolving field of data science. Through hands-on projects and industry-relevant case studies, students will gain proficiency in every stage of the data science lifecycle. From data collection and preprocessing to exploratory analysis, machine learning, and data visualization, this course covers the entire spectrum. Additionally, students will learn to develop robust and scalable data-driven applications, leveraging technologies such as Python, SQL, and popular data science libraries. Join us to become a well-rounded data science professional capable of tackling real-world challenges."
      ]
     },
     "execution_count": 23,
     "metadata": {},
     "output_type": "execute_result"
    }
   ],
   "source": [
    "df3"
   ]
  },
  {
   "cell_type": "code",
   "execution_count": 24,
   "id": "ddb0a3ea-2214-4f22-be45-681ba45eb2d8",
   "metadata": {},
   "outputs": [],
   "source": [
    "df3['len'] = df3['desc'].apply(len)"
   ]
  },
  {
   "cell_type": "code",
   "execution_count": 25,
   "id": "17cd79ae-94cf-425e-a0f6-1e2ef174fb93",
   "metadata": {},
   "outputs": [
    {
     "data": {
      "text/html": [
       "<div>\n",
       "<style scoped>\n",
       "    .dataframe tbody tr th:only-of-type {\n",
       "        vertical-align: middle;\n",
       "    }\n",
       "\n",
       "    .dataframe tbody tr th {\n",
       "        vertical-align: top;\n",
       "    }\n",
       "\n",
       "    .dataframe thead th {\n",
       "        text-align: right;\n",
       "    }\n",
       "</style>\n",
       "<table border=\"1\" class=\"dataframe\">\n",
       "  <thead>\n",
       "    <tr style=\"text-align: right;\">\n",
       "      <th></th>\n",
       "      <th>desc</th>\n",
       "      <th>len</th>\n",
       "    </tr>\n",
       "  </thead>\n",
       "  <tbody>\n",
       "    <tr>\n",
       "      <th>0</th>\n",
       "      <td>The Full Stack Data Science course by PWSkills offers a comprehensive curriculum that equips learners with the skills and knowledge to excel in the rapidly evolving field of data science. Through hands-on projects and industry-relevant case studies, students will gain proficiency in every stage of the data science lifecycle. From data collection and preprocessing to exploratory analysis, machine learning, and data visualization, this course covers the entire spectrum. Additionally, students will learn to develop robust and scalable data-driven applications, leveraging technologies such as Python, SQL, and popular data science libraries. Join us to become a well-rounded data science professional capable of tackling real-world challenges.</td>\n",
       "      <td>746</td>\n",
       "    </tr>\n",
       "  </tbody>\n",
       "</table>\n",
       "</div>"
      ],
      "text/plain": [
       "                                                                                                                                                                                                                                                                                                                                                                                                                                                                                                                                                                                                                                                                                                                                                                         desc  \\\n",
       "0  The Full Stack Data Science course by PWSkills offers a comprehensive curriculum that equips learners with the skills and knowledge to excel in the rapidly evolving field of data science. Through hands-on projects and industry-relevant case studies, students will gain proficiency in every stage of the data science lifecycle. From data collection and preprocessing to exploratory analysis, machine learning, and data visualization, this course covers the entire spectrum. Additionally, students will learn to develop robust and scalable data-driven applications, leveraging technologies such as Python, SQL, and popular data science libraries. Join us to become a well-rounded data science professional capable of tackling real-world challenges.   \n",
       "\n",
       "   len  \n",
       "0  746  "
      ]
     },
     "execution_count": 25,
     "metadata": {},
     "output_type": "execute_result"
    }
   ],
   "source": [
    "df3"
   ]
  },
  {
   "cell_type": "code",
   "execution_count": 26,
   "id": "c1f35e89-d4a2-4bf1-8ffe-4ebe34043de7",
   "metadata": {},
   "outputs": [],
   "source": [
    "df3['word_count'] = df3['desc'].apply(lambda x : len(x.split()))"
   ]
  },
  {
   "cell_type": "code",
   "execution_count": 27,
   "id": "8d72fbed-d2fd-4aed-85b3-0ba5579befd7",
   "metadata": {},
   "outputs": [
    {
     "data": {
      "text/html": [
       "<div>\n",
       "<style scoped>\n",
       "    .dataframe tbody tr th:only-of-type {\n",
       "        vertical-align: middle;\n",
       "    }\n",
       "\n",
       "    .dataframe tbody tr th {\n",
       "        vertical-align: top;\n",
       "    }\n",
       "\n",
       "    .dataframe thead th {\n",
       "        text-align: right;\n",
       "    }\n",
       "</style>\n",
       "<table border=\"1\" class=\"dataframe\">\n",
       "  <thead>\n",
       "    <tr style=\"text-align: right;\">\n",
       "      <th></th>\n",
       "      <th>desc</th>\n",
       "      <th>len</th>\n",
       "      <th>word_count</th>\n",
       "    </tr>\n",
       "  </thead>\n",
       "  <tbody>\n",
       "    <tr>\n",
       "      <th>0</th>\n",
       "      <td>The Full Stack Data Science course by PWSkills offers a comprehensive curriculum that equips learners with the skills and knowledge to excel in the rapidly evolving field of data science. Through hands-on projects and industry-relevant case studies, students will gain proficiency in every stage of the data science lifecycle. From data collection and preprocessing to exploratory analysis, machine learning, and data visualization, this course covers the entire spectrum. Additionally, students will learn to develop robust and scalable data-driven applications, leveraging technologies such as Python, SQL, and popular data science libraries. Join us to become a well-rounded data science professional capable of tackling real-world challenges.</td>\n",
       "      <td>746</td>\n",
       "      <td>104</td>\n",
       "    </tr>\n",
       "  </tbody>\n",
       "</table>\n",
       "</div>"
      ],
      "text/plain": [
       "                                                                                                                                                                                                                                                                                                                                                                                                                                                                                                                                                                                                                                                                                                                                                                         desc  \\\n",
       "0  The Full Stack Data Science course by PWSkills offers a comprehensive curriculum that equips learners with the skills and knowledge to excel in the rapidly evolving field of data science. Through hands-on projects and industry-relevant case studies, students will gain proficiency in every stage of the data science lifecycle. From data collection and preprocessing to exploratory analysis, machine learning, and data visualization, this course covers the entire spectrum. Additionally, students will learn to develop robust and scalable data-driven applications, leveraging technologies such as Python, SQL, and popular data science libraries. Join us to become a well-rounded data science professional capable of tackling real-world challenges.   \n",
       "\n",
       "   len  word_count  \n",
       "0  746         104  "
      ]
     },
     "execution_count": 27,
     "metadata": {},
     "output_type": "execute_result"
    }
   ],
   "source": [
    "df3"
   ]
  },
  {
   "cell_type": "code",
   "execution_count": 28,
   "id": "6801ccae-4049-48ac-b0c1-c03601ca9f65",
   "metadata": {},
   "outputs": [
    {
     "data": {
      "text/html": [
       "<div>\n",
       "<style scoped>\n",
       "    .dataframe tbody tr th:only-of-type {\n",
       "        vertical-align: middle;\n",
       "    }\n",
       "\n",
       "    .dataframe tbody tr th {\n",
       "        vertical-align: top;\n",
       "    }\n",
       "\n",
       "    .dataframe thead th {\n",
       "        text-align: right;\n",
       "    }\n",
       "</style>\n",
       "<table border=\"1\" class=\"dataframe\">\n",
       "  <thead>\n",
       "    <tr style=\"text-align: right;\">\n",
       "      <th></th>\n",
       "      <th>b</th>\n",
       "      <th>c</th>\n",
       "    </tr>\n",
       "    <tr>\n",
       "      <th>a</th>\n",
       "      <th></th>\n",
       "      <th></th>\n",
       "    </tr>\n",
       "  </thead>\n",
       "  <tbody>\n",
       "    <tr>\n",
       "      <th>1</th>\n",
       "      <td>3</td>\n",
       "      <td>2</td>\n",
       "    </tr>\n",
       "    <tr>\n",
       "      <th>2</th>\n",
       "      <td>4</td>\n",
       "      <td>3</td>\n",
       "    </tr>\n",
       "    <tr>\n",
       "      <th>3</th>\n",
       "      <td>5</td>\n",
       "      <td>4</td>\n",
       "    </tr>\n",
       "    <tr>\n",
       "      <th>4</th>\n",
       "      <td>6</td>\n",
       "      <td>5</td>\n",
       "    </tr>\n",
       "    <tr>\n",
       "      <th>5</th>\n",
       "      <td>6</td>\n",
       "      <td>1</td>\n",
       "    </tr>\n",
       "  </tbody>\n",
       "</table>\n",
       "</div>"
      ],
      "text/plain": [
       "   b  c\n",
       "a      \n",
       "1  3  2\n",
       "2  4  3\n",
       "3  5  4\n",
       "4  6  5\n",
       "5  6  1"
      ]
     },
     "execution_count": 28,
     "metadata": {},
     "output_type": "execute_result"
    }
   ],
   "source": [
    "df"
   ]
  },
  {
   "cell_type": "code",
   "execution_count": 29,
   "id": "1d4abab2-5e1b-4e7b-86c5-471f881cbce0",
   "metadata": {},
   "outputs": [
    {
     "data": {
      "text/html": [
       "<div>\n",
       "<style scoped>\n",
       "    .dataframe tbody tr th:only-of-type {\n",
       "        vertical-align: middle;\n",
       "    }\n",
       "\n",
       "    .dataframe tbody tr th {\n",
       "        vertical-align: top;\n",
       "    }\n",
       "\n",
       "    .dataframe thead th {\n",
       "        text-align: right;\n",
       "    }\n",
       "</style>\n",
       "<table border=\"1\" class=\"dataframe\">\n",
       "  <thead>\n",
       "    <tr style=\"text-align: right;\">\n",
       "      <th></th>\n",
       "      <th>a</th>\n",
       "    </tr>\n",
       "  </thead>\n",
       "  <tbody>\n",
       "    <tr>\n",
       "      <th>a</th>\n",
       "      <td>1</td>\n",
       "    </tr>\n",
       "    <tr>\n",
       "      <th>b</th>\n",
       "      <td>2</td>\n",
       "    </tr>\n",
       "    <tr>\n",
       "      <th>c</th>\n",
       "      <td>3</td>\n",
       "    </tr>\n",
       "    <tr>\n",
       "      <th>d</th>\n",
       "      <td>4</td>\n",
       "    </tr>\n",
       "    <tr>\n",
       "      <th>e</th>\n",
       "      <td>5</td>\n",
       "    </tr>\n",
       "  </tbody>\n",
       "</table>\n",
       "</div>"
      ],
      "text/plain": [
       "   a\n",
       "a  1\n",
       "b  2\n",
       "c  3\n",
       "d  4\n",
       "e  5"
      ]
     },
     "execution_count": 29,
     "metadata": {},
     "output_type": "execute_result"
    }
   ],
   "source": [
    "df1[['a']]"
   ]
  },
  {
   "cell_type": "code",
   "execution_count": 30,
   "id": "f9db3dfc-6054-4676-bf88-12d4113deb78",
   "metadata": {},
   "outputs": [
    {
     "data": {
      "text/plain": [
       "3.0"
      ]
     },
     "execution_count": 30,
     "metadata": {},
     "output_type": "execute_result"
    }
   ],
   "source": [
    "df1['a'].mean()"
   ]
  },
  {
   "cell_type": "code",
   "execution_count": 31,
   "id": "0463023d-68e5-4988-b61b-8df802db3d9e",
   "metadata": {},
   "outputs": [
    {
     "data": {
      "text/plain": [
       "0    1\n",
       "1    2\n",
       "2    3\n",
       "3    4\n",
       "4    5\n",
       "Name: a, dtype: int64"
      ]
     },
     "execution_count": 31,
     "metadata": {},
     "output_type": "execute_result"
    }
   ],
   "source": [
    "df1['a'].mode()"
   ]
  },
  {
   "cell_type": "code",
   "execution_count": 32,
   "id": "0d53421e-ef65-4b92-b788-e6fa1819267d",
   "metadata": {},
   "outputs": [
    {
     "data": {
      "text/plain": [
       "3.0"
      ]
     },
     "execution_count": 32,
     "metadata": {},
     "output_type": "execute_result"
    }
   ],
   "source": [
    "df1['a'].median()"
   ]
  },
  {
   "cell_type": "code",
   "execution_count": 33,
   "id": "5b1653c1-f2fe-4a7b-b451-a98be056b8a6",
   "metadata": {},
   "outputs": [
    {
     "data": {
      "text/plain": [
       "2.5"
      ]
     },
     "execution_count": 33,
     "metadata": {},
     "output_type": "execute_result"
    }
   ],
   "source": [
    "df1['a'].var()"
   ]
  },
  {
   "cell_type": "code",
   "execution_count": 34,
   "id": "945a7b99-922e-4ca1-a772-eea61971349e",
   "metadata": {},
   "outputs": [],
   "source": [
    "df3 = pd.DataFrame({'a':[3,4,5,6,7,8,8]})"
   ]
  },
  {
   "cell_type": "code",
   "execution_count": 35,
   "id": "070eaf55-6b65-46ce-8f63-74aaf1bf450b",
   "metadata": {},
   "outputs": [
    {
     "data": {
      "text/html": [
       "<div>\n",
       "<style scoped>\n",
       "    .dataframe tbody tr th:only-of-type {\n",
       "        vertical-align: middle;\n",
       "    }\n",
       "\n",
       "    .dataframe tbody tr th {\n",
       "        vertical-align: top;\n",
       "    }\n",
       "\n",
       "    .dataframe thead th {\n",
       "        text-align: right;\n",
       "    }\n",
       "</style>\n",
       "<table border=\"1\" class=\"dataframe\">\n",
       "  <thead>\n",
       "    <tr style=\"text-align: right;\">\n",
       "      <th></th>\n",
       "      <th>a</th>\n",
       "    </tr>\n",
       "  </thead>\n",
       "  <tbody>\n",
       "    <tr>\n",
       "      <th>0</th>\n",
       "      <td>3</td>\n",
       "    </tr>\n",
       "    <tr>\n",
       "      <th>1</th>\n",
       "      <td>4</td>\n",
       "    </tr>\n",
       "    <tr>\n",
       "      <th>2</th>\n",
       "      <td>5</td>\n",
       "    </tr>\n",
       "    <tr>\n",
       "      <th>3</th>\n",
       "      <td>6</td>\n",
       "    </tr>\n",
       "    <tr>\n",
       "      <th>4</th>\n",
       "      <td>7</td>\n",
       "    </tr>\n",
       "    <tr>\n",
       "      <th>5</th>\n",
       "      <td>8</td>\n",
       "    </tr>\n",
       "    <tr>\n",
       "      <th>6</th>\n",
       "      <td>8</td>\n",
       "    </tr>\n",
       "  </tbody>\n",
       "</table>\n",
       "</div>"
      ],
      "text/plain": [
       "   a\n",
       "0  3\n",
       "1  4\n",
       "2  5\n",
       "3  6\n",
       "4  7\n",
       "5  8\n",
       "6  8"
      ]
     },
     "execution_count": 35,
     "metadata": {},
     "output_type": "execute_result"
    }
   ],
   "source": [
    "df3"
   ]
  },
  {
   "cell_type": "code",
   "execution_count": 36,
   "id": "f5a42f48-ca88-4afa-b850-d89add877b4b",
   "metadata": {},
   "outputs": [
    {
     "data": {
      "text/plain": [
       "0    3.0\n",
       "1    4.0\n",
       "2    5.0\n",
       "3    6.0\n",
       "4    7.0\n",
       "5    8.0\n",
       "6    8.0\n",
       "Name: a, dtype: float64"
      ]
     },
     "execution_count": 36,
     "metadata": {},
     "output_type": "execute_result"
    }
   ],
   "source": [
    "df3['a'].rolling(window=1).mean()"
   ]
  },
  {
   "cell_type": "code",
   "execution_count": 37,
   "id": "062782a5-1010-4eb9-8cb1-40f2f0ccc66c",
   "metadata": {},
   "outputs": [
    {
     "data": {
      "text/plain": [
       "0    NaN\n",
       "1    3.5\n",
       "2    4.5\n",
       "3    5.5\n",
       "4    6.5\n",
       "5    7.5\n",
       "6    8.0\n",
       "Name: a, dtype: float64"
      ]
     },
     "execution_count": 37,
     "metadata": {},
     "output_type": "execute_result"
    }
   ],
   "source": [
    "df3['a'].rolling(window=2).mean()"
   ]
  },
  {
   "cell_type": "code",
   "execution_count": 38,
   "id": "177649f8-ffcd-4e9a-a3d0-4241fc057c4c",
   "metadata": {},
   "outputs": [
    {
     "data": {
      "text/plain": [
       "0         NaN\n",
       "1         NaN\n",
       "2    4.000000\n",
       "3    5.000000\n",
       "4    6.000000\n",
       "5    7.000000\n",
       "6    7.666667\n",
       "Name: a, dtype: float64"
      ]
     },
     "execution_count": 38,
     "metadata": {},
     "output_type": "execute_result"
    }
   ],
   "source": [
    "df3['a'].rolling(window=3).mean()"
   ]
  },
  {
   "cell_type": "code",
   "execution_count": 39,
   "id": "c41a8a7d-78ce-48a9-b4ec-d14466862c7b",
   "metadata": {},
   "outputs": [
    {
     "data": {
      "text/plain": [
       "0     NaN\n",
       "1     NaN\n",
       "2     NaN\n",
       "3    4.50\n",
       "4    5.50\n",
       "5    6.50\n",
       "6    7.25\n",
       "Name: a, dtype: float64"
      ]
     },
     "execution_count": 39,
     "metadata": {},
     "output_type": "execute_result"
    }
   ],
   "source": [
    "df3['a'].rolling(window=4).mean()"
   ]
  },
  {
   "cell_type": "code",
   "execution_count": 40,
   "id": "0346122b-ef4e-49ff-baf2-5d52ec214ddf",
   "metadata": {},
   "outputs": [
    {
     "data": {
      "text/plain": [
       "0     3\n",
       "1     7\n",
       "2    12\n",
       "3    18\n",
       "4    25\n",
       "5    33\n",
       "6    41\n",
       "Name: a, dtype: int64"
      ]
     },
     "execution_count": 40,
     "metadata": {},
     "output_type": "execute_result"
    }
   ],
   "source": [
    "df3['a'].cumsum()"
   ]
  },
  {
   "cell_type": "code",
   "execution_count": 41,
   "id": "418e9694-4ebd-4a8a-a7d3-bb9caa0eeaf4",
   "metadata": {},
   "outputs": [],
   "source": [
    "date = pd.date_range(start='2023-06-01', end='2023-08-30')"
   ]
  },
  {
   "cell_type": "code",
   "execution_count": 42,
   "id": "f23cc53c-3053-4730-b556-53bc411ffdb2",
   "metadata": {},
   "outputs": [
    {
     "data": {
      "text/plain": [
       "DatetimeIndex(['2023-06-01', '2023-06-02', '2023-06-03', '2023-06-04',\n",
       "               '2023-06-05', '2023-06-06', '2023-06-07', '2023-06-08',\n",
       "               '2023-06-09', '2023-06-10', '2023-06-11', '2023-06-12',\n",
       "               '2023-06-13', '2023-06-14', '2023-06-15', '2023-06-16',\n",
       "               '2023-06-17', '2023-06-18', '2023-06-19', '2023-06-20',\n",
       "               '2023-06-21', '2023-06-22', '2023-06-23', '2023-06-24',\n",
       "               '2023-06-25', '2023-06-26', '2023-06-27', '2023-06-28',\n",
       "               '2023-06-29', '2023-06-30', '2023-07-01', '2023-07-02',\n",
       "               '2023-07-03', '2023-07-04', '2023-07-05', '2023-07-06',\n",
       "               '2023-07-07', '2023-07-08', '2023-07-09', '2023-07-10',\n",
       "               '2023-07-11', '2023-07-12', '2023-07-13', '2023-07-14',\n",
       "               '2023-07-15', '2023-07-16', '2023-07-17', '2023-07-18',\n",
       "               '2023-07-19', '2023-07-20', '2023-07-21', '2023-07-22',\n",
       "               '2023-07-23', '2023-07-24', '2023-07-25', '2023-07-26',\n",
       "               '2023-07-27', '2023-07-28', '2023-07-29', '2023-07-30',\n",
       "               '2023-07-31', '2023-08-01', '2023-08-02', '2023-08-03',\n",
       "               '2023-08-04', '2023-08-05', '2023-08-06', '2023-08-07',\n",
       "               '2023-08-08', '2023-08-09', '2023-08-10', '2023-08-11',\n",
       "               '2023-08-12', '2023-08-13', '2023-08-14', '2023-08-15',\n",
       "               '2023-08-16', '2023-08-17', '2023-08-18', '2023-08-19',\n",
       "               '2023-08-20', '2023-08-21', '2023-08-22', '2023-08-23',\n",
       "               '2023-08-24', '2023-08-25', '2023-08-26', '2023-08-27',\n",
       "               '2023-08-28', '2023-08-29', '2023-08-30'],\n",
       "              dtype='datetime64[ns]', freq='D')"
      ]
     },
     "execution_count": 42,
     "metadata": {},
     "output_type": "execute_result"
    }
   ],
   "source": [
    "date"
   ]
  },
  {
   "cell_type": "code",
   "execution_count": 43,
   "id": "8d2691db-7349-4736-b236-9210b0f23b83",
   "metadata": {},
   "outputs": [],
   "source": [
    "df_date = pd.DataFrame({'date' : date})"
   ]
  },
  {
   "cell_type": "code",
   "execution_count": 44,
   "id": "e9f29d20-b194-4180-859f-77f3374d2e23",
   "metadata": {},
   "outputs": [
    {
     "data": {
      "text/html": [
       "<div>\n",
       "<style scoped>\n",
       "    .dataframe tbody tr th:only-of-type {\n",
       "        vertical-align: middle;\n",
       "    }\n",
       "\n",
       "    .dataframe tbody tr th {\n",
       "        vertical-align: top;\n",
       "    }\n",
       "\n",
       "    .dataframe thead th {\n",
       "        text-align: right;\n",
       "    }\n",
       "</style>\n",
       "<table border=\"1\" class=\"dataframe\">\n",
       "  <thead>\n",
       "    <tr style=\"text-align: right;\">\n",
       "      <th></th>\n",
       "      <th>date</th>\n",
       "    </tr>\n",
       "  </thead>\n",
       "  <tbody>\n",
       "    <tr>\n",
       "      <th>0</th>\n",
       "      <td>2023-06-01</td>\n",
       "    </tr>\n",
       "    <tr>\n",
       "      <th>1</th>\n",
       "      <td>2023-06-02</td>\n",
       "    </tr>\n",
       "    <tr>\n",
       "      <th>2</th>\n",
       "      <td>2023-06-03</td>\n",
       "    </tr>\n",
       "    <tr>\n",
       "      <th>3</th>\n",
       "      <td>2023-06-04</td>\n",
       "    </tr>\n",
       "    <tr>\n",
       "      <th>4</th>\n",
       "      <td>2023-06-05</td>\n",
       "    </tr>\n",
       "    <tr>\n",
       "      <th>...</th>\n",
       "      <td>...</td>\n",
       "    </tr>\n",
       "    <tr>\n",
       "      <th>86</th>\n",
       "      <td>2023-08-26</td>\n",
       "    </tr>\n",
       "    <tr>\n",
       "      <th>87</th>\n",
       "      <td>2023-08-27</td>\n",
       "    </tr>\n",
       "    <tr>\n",
       "      <th>88</th>\n",
       "      <td>2023-08-28</td>\n",
       "    </tr>\n",
       "    <tr>\n",
       "      <th>89</th>\n",
       "      <td>2023-08-29</td>\n",
       "    </tr>\n",
       "    <tr>\n",
       "      <th>90</th>\n",
       "      <td>2023-08-30</td>\n",
       "    </tr>\n",
       "  </tbody>\n",
       "</table>\n",
       "<p>91 rows × 1 columns</p>\n",
       "</div>"
      ],
      "text/plain": [
       "         date\n",
       "0  2023-06-01\n",
       "1  2023-06-02\n",
       "2  2023-06-03\n",
       "3  2023-06-04\n",
       "4  2023-06-05\n",
       "..        ...\n",
       "86 2023-08-26\n",
       "87 2023-08-27\n",
       "88 2023-08-28\n",
       "89 2023-08-29\n",
       "90 2023-08-30\n",
       "\n",
       "[91 rows x 1 columns]"
      ]
     },
     "execution_count": 44,
     "metadata": {},
     "output_type": "execute_result"
    }
   ],
   "source": [
    "df_date"
   ]
  },
  {
   "cell_type": "code",
   "execution_count": 45,
   "id": "d7862a9a-adda-4188-83d8-37939d22ddd4",
   "metadata": {},
   "outputs": [],
   "source": [
    "df7 = pd.DataFrame({\"date\" : ['2023-06-03' ,'2023-06-07']})"
   ]
  },
  {
   "cell_type": "code",
   "execution_count": 46,
   "id": "f2589dbf-45df-41b5-9241-3f387ef2e236",
   "metadata": {},
   "outputs": [],
   "source": [
    "df7['update_date'] = pd.to_datetime(df7['date'])"
   ]
  },
  {
   "cell_type": "code",
   "execution_count": 47,
   "id": "b86f16f8-482d-4cb9-87a5-d706d7687ad8",
   "metadata": {},
   "outputs": [
    {
     "data": {
      "text/plain": [
       "0   2023-06-03\n",
       "1   2023-06-07\n",
       "Name: update_date, dtype: datetime64[ns]"
      ]
     },
     "execution_count": 47,
     "metadata": {},
     "output_type": "execute_result"
    }
   ],
   "source": [
    "df7['update_date']"
   ]
  },
  {
   "cell_type": "code",
   "execution_count": 48,
   "id": "e6a9339d-03fc-4d51-8cfa-51a4abb8f507",
   "metadata": {},
   "outputs": [
    {
     "data": {
      "text/html": [
       "<div>\n",
       "<style scoped>\n",
       "    .dataframe tbody tr th:only-of-type {\n",
       "        vertical-align: middle;\n",
       "    }\n",
       "\n",
       "    .dataframe tbody tr th {\n",
       "        vertical-align: top;\n",
       "    }\n",
       "\n",
       "    .dataframe thead th {\n",
       "        text-align: right;\n",
       "    }\n",
       "</style>\n",
       "<table border=\"1\" class=\"dataframe\">\n",
       "  <thead>\n",
       "    <tr style=\"text-align: right;\">\n",
       "      <th></th>\n",
       "      <th>date</th>\n",
       "      <th>update_date</th>\n",
       "    </tr>\n",
       "  </thead>\n",
       "  <tbody>\n",
       "    <tr>\n",
       "      <th>0</th>\n",
       "      <td>2023-06-03</td>\n",
       "      <td>2023-06-03</td>\n",
       "    </tr>\n",
       "    <tr>\n",
       "      <th>1</th>\n",
       "      <td>2023-06-07</td>\n",
       "      <td>2023-06-07</td>\n",
       "    </tr>\n",
       "  </tbody>\n",
       "</table>\n",
       "</div>"
      ],
      "text/plain": [
       "         date update_date\n",
       "0  2023-06-03  2023-06-03\n",
       "1  2023-06-07  2023-06-07"
      ]
     },
     "execution_count": 48,
     "metadata": {},
     "output_type": "execute_result"
    }
   ],
   "source": [
    "df7"
   ]
  },
  {
   "cell_type": "code",
   "execution_count": 49,
   "id": "13e493fe-15ae-4273-a94e-e48ab91b503d",
   "metadata": {},
   "outputs": [
    {
     "data": {
      "text/plain": [
       "date                   object\n",
       "update_date    datetime64[ns]\n",
       "dtype: object"
      ]
     },
     "execution_count": 49,
     "metadata": {},
     "output_type": "execute_result"
    }
   ],
   "source": [
    "df7.dtypes"
   ]
  },
  {
   "cell_type": "code",
   "execution_count": 50,
   "id": "2e29c3da-bea9-4dc2-95c6-89de9f0806c4",
   "metadata": {},
   "outputs": [],
   "source": [
    "df7['year'] = df7['update_date'].dt.year"
   ]
  },
  {
   "cell_type": "code",
   "execution_count": 51,
   "id": "d54e55c7-04cc-4d26-af62-9fc31c9d7350",
   "metadata": {},
   "outputs": [
    {
     "data": {
      "text/html": [
       "<div>\n",
       "<style scoped>\n",
       "    .dataframe tbody tr th:only-of-type {\n",
       "        vertical-align: middle;\n",
       "    }\n",
       "\n",
       "    .dataframe tbody tr th {\n",
       "        vertical-align: top;\n",
       "    }\n",
       "\n",
       "    .dataframe thead th {\n",
       "        text-align: right;\n",
       "    }\n",
       "</style>\n",
       "<table border=\"1\" class=\"dataframe\">\n",
       "  <thead>\n",
       "    <tr style=\"text-align: right;\">\n",
       "      <th></th>\n",
       "      <th>date</th>\n",
       "      <th>update_date</th>\n",
       "      <th>year</th>\n",
       "    </tr>\n",
       "  </thead>\n",
       "  <tbody>\n",
       "    <tr>\n",
       "      <th>0</th>\n",
       "      <td>2023-06-03</td>\n",
       "      <td>2023-06-03</td>\n",
       "      <td>2023</td>\n",
       "    </tr>\n",
       "    <tr>\n",
       "      <th>1</th>\n",
       "      <td>2023-06-07</td>\n",
       "      <td>2023-06-07</td>\n",
       "      <td>2023</td>\n",
       "    </tr>\n",
       "  </tbody>\n",
       "</table>\n",
       "</div>"
      ],
      "text/plain": [
       "         date update_date  year\n",
       "0  2023-06-03  2023-06-03  2023\n",
       "1  2023-06-07  2023-06-07  2023"
      ]
     },
     "execution_count": 51,
     "metadata": {},
     "output_type": "execute_result"
    }
   ],
   "source": [
    "df7"
   ]
  },
  {
   "cell_type": "code",
   "execution_count": 52,
   "id": "ddf11d5c-3a38-41ff-b71f-2183ad645a36",
   "metadata": {},
   "outputs": [],
   "source": [
    "df7['day'] = df7['update_date'].dt.day"
   ]
  },
  {
   "cell_type": "code",
   "execution_count": 53,
   "id": "4d1b8168-c94d-4e78-a102-656b3ec1219b",
   "metadata": {},
   "outputs": [
    {
     "data": {
      "text/html": [
       "<div>\n",
       "<style scoped>\n",
       "    .dataframe tbody tr th:only-of-type {\n",
       "        vertical-align: middle;\n",
       "    }\n",
       "\n",
       "    .dataframe tbody tr th {\n",
       "        vertical-align: top;\n",
       "    }\n",
       "\n",
       "    .dataframe thead th {\n",
       "        text-align: right;\n",
       "    }\n",
       "</style>\n",
       "<table border=\"1\" class=\"dataframe\">\n",
       "  <thead>\n",
       "    <tr style=\"text-align: right;\">\n",
       "      <th></th>\n",
       "      <th>date</th>\n",
       "      <th>update_date</th>\n",
       "      <th>year</th>\n",
       "      <th>day</th>\n",
       "    </tr>\n",
       "  </thead>\n",
       "  <tbody>\n",
       "    <tr>\n",
       "      <th>0</th>\n",
       "      <td>2023-06-03</td>\n",
       "      <td>2023-06-03</td>\n",
       "      <td>2023</td>\n",
       "      <td>3</td>\n",
       "    </tr>\n",
       "    <tr>\n",
       "      <th>1</th>\n",
       "      <td>2023-06-07</td>\n",
       "      <td>2023-06-07</td>\n",
       "      <td>2023</td>\n",
       "      <td>7</td>\n",
       "    </tr>\n",
       "  </tbody>\n",
       "</table>\n",
       "</div>"
      ],
      "text/plain": [
       "         date update_date  year  day\n",
       "0  2023-06-03  2023-06-03  2023    3\n",
       "1  2023-06-07  2023-06-07  2023    7"
      ]
     },
     "execution_count": 53,
     "metadata": {},
     "output_type": "execute_result"
    }
   ],
   "source": [
    "df7"
   ]
  },
  {
   "cell_type": "code",
   "execution_count": 54,
   "id": "f0c42d3d-073a-4120-85d4-25dde709f9aa",
   "metadata": {},
   "outputs": [],
   "source": [
    "df7['time'] = df7['update_date'].dt.time"
   ]
  },
  {
   "cell_type": "code",
   "execution_count": 55,
   "id": "4637e547-471d-41f1-9f17-f814e14538a7",
   "metadata": {},
   "outputs": [
    {
     "data": {
      "text/html": [
       "<div>\n",
       "<style scoped>\n",
       "    .dataframe tbody tr th:only-of-type {\n",
       "        vertical-align: middle;\n",
       "    }\n",
       "\n",
       "    .dataframe tbody tr th {\n",
       "        vertical-align: top;\n",
       "    }\n",
       "\n",
       "    .dataframe thead th {\n",
       "        text-align: right;\n",
       "    }\n",
       "</style>\n",
       "<table border=\"1\" class=\"dataframe\">\n",
       "  <thead>\n",
       "    <tr style=\"text-align: right;\">\n",
       "      <th></th>\n",
       "      <th>date</th>\n",
       "      <th>update_date</th>\n",
       "      <th>year</th>\n",
       "      <th>day</th>\n",
       "      <th>time</th>\n",
       "    </tr>\n",
       "  </thead>\n",
       "  <tbody>\n",
       "    <tr>\n",
       "      <th>0</th>\n",
       "      <td>2023-06-03</td>\n",
       "      <td>2023-06-03</td>\n",
       "      <td>2023</td>\n",
       "      <td>3</td>\n",
       "      <td>00:00:00</td>\n",
       "    </tr>\n",
       "    <tr>\n",
       "      <th>1</th>\n",
       "      <td>2023-06-07</td>\n",
       "      <td>2023-06-07</td>\n",
       "      <td>2023</td>\n",
       "      <td>7</td>\n",
       "      <td>00:00:00</td>\n",
       "    </tr>\n",
       "  </tbody>\n",
       "</table>\n",
       "</div>"
      ],
      "text/plain": [
       "         date update_date  year  day      time\n",
       "0  2023-06-03  2023-06-03  2023    3  00:00:00\n",
       "1  2023-06-07  2023-06-07  2023    7  00:00:00"
      ]
     },
     "execution_count": 55,
     "metadata": {},
     "output_type": "execute_result"
    }
   ],
   "source": [
    "df7"
   ]
  },
  {
   "cell_type": "code",
   "execution_count": 56,
   "id": "2e9ff1be-3025-48b1-9504-337be96eb977",
   "metadata": {},
   "outputs": [],
   "source": [
    "df7['month'] = df7['update_date'].dt.month"
   ]
  },
  {
   "cell_type": "code",
   "execution_count": 57,
   "id": "805f3f0e-b4a0-44e7-8e85-437c32cdd2a5",
   "metadata": {},
   "outputs": [
    {
     "data": {
      "text/html": [
       "<div>\n",
       "<style scoped>\n",
       "    .dataframe tbody tr th:only-of-type {\n",
       "        vertical-align: middle;\n",
       "    }\n",
       "\n",
       "    .dataframe tbody tr th {\n",
       "        vertical-align: top;\n",
       "    }\n",
       "\n",
       "    .dataframe thead th {\n",
       "        text-align: right;\n",
       "    }\n",
       "</style>\n",
       "<table border=\"1\" class=\"dataframe\">\n",
       "  <thead>\n",
       "    <tr style=\"text-align: right;\">\n",
       "      <th></th>\n",
       "      <th>date</th>\n",
       "      <th>update_date</th>\n",
       "      <th>year</th>\n",
       "      <th>day</th>\n",
       "      <th>time</th>\n",
       "      <th>month</th>\n",
       "    </tr>\n",
       "  </thead>\n",
       "  <tbody>\n",
       "    <tr>\n",
       "      <th>0</th>\n",
       "      <td>2023-06-03</td>\n",
       "      <td>2023-06-03</td>\n",
       "      <td>2023</td>\n",
       "      <td>3</td>\n",
       "      <td>00:00:00</td>\n",
       "      <td>6</td>\n",
       "    </tr>\n",
       "    <tr>\n",
       "      <th>1</th>\n",
       "      <td>2023-06-07</td>\n",
       "      <td>2023-06-07</td>\n",
       "      <td>2023</td>\n",
       "      <td>7</td>\n",
       "      <td>00:00:00</td>\n",
       "      <td>6</td>\n",
       "    </tr>\n",
       "  </tbody>\n",
       "</table>\n",
       "</div>"
      ],
      "text/plain": [
       "         date update_date  year  day      time  month\n",
       "0  2023-06-03  2023-06-03  2023    3  00:00:00      6\n",
       "1  2023-06-07  2023-06-07  2023    7  00:00:00      6"
      ]
     },
     "execution_count": 57,
     "metadata": {},
     "output_type": "execute_result"
    }
   ],
   "source": [
    "df7"
   ]
  },
  {
   "cell_type": "code",
   "execution_count": 58,
   "id": "77b6dc48-1f69-4bf2-9064-196779b1dbfd",
   "metadata": {},
   "outputs": [
    {
     "data": {
      "text/plain": [
       "Timedelta('1 days 05:45:00')"
      ]
     },
     "execution_count": 58,
     "metadata": {},
     "output_type": "execute_result"
    }
   ],
   "source": [
    "pd.Timedelta(days = 1,hours=5,minutes=45)"
   ]
  },
  {
   "cell_type": "code",
   "execution_count": 59,
   "id": "bf93e543-d07f-4fc8-af35-c747bb737e16",
   "metadata": {},
   "outputs": [],
   "source": [
    "dt = pd.to_datetime('2023-06-20')"
   ]
  },
  {
   "cell_type": "code",
   "execution_count": 60,
   "id": "8205cd95-5d5b-4aed-bbb4-4e56a1c08b31",
   "metadata": {},
   "outputs": [],
   "source": [
    "td = pd.Timedelta(days = 1)"
   ]
  },
  {
   "cell_type": "code",
   "execution_count": 61,
   "id": "70787d37-dc69-417c-a6ca-e780a10a33a5",
   "metadata": {},
   "outputs": [
    {
     "data": {
      "text/plain": [
       "Timestamp('2023-06-21 00:00:00')"
      ]
     },
     "execution_count": 61,
     "metadata": {},
     "output_type": "execute_result"
    }
   ],
   "source": [
    "dt + td"
   ]
  },
  {
   "cell_type": "code",
   "execution_count": 62,
   "id": "0aa01f4c-77f0-432a-bb1e-582676690863",
   "metadata": {},
   "outputs": [],
   "source": [
    "d = pd.Series([1,2,3,444,556,66])"
   ]
  },
  {
   "cell_type": "code",
   "execution_count": 63,
   "id": "dd437960-230f-46ab-96a6-509fde567072",
   "metadata": {},
   "outputs": [
    {
     "data": {
      "text/plain": [
       "<AxesSubplot: >"
      ]
     },
     "execution_count": 63,
     "metadata": {},
     "output_type": "execute_result"
    },
    {
     "data": {
      "image/png": "[encoded data removed]",
      "text/plain": [
       "<Figure size 640x480 with 1 Axes>"
      ]
     },
     "metadata": {},
     "output_type": "display_data"
    }
   ],
   "source": [
    "d.plot()"
   ]
  },
  {
   "cell_type": "code",
   "execution_count": 64,
   "id": "a514503c-03a8-425c-878e-aa16484d3af7",
   "metadata": {},
   "outputs": [],
   "source": [
    "dp = pd.DataFrame({'a' : [3,4,5,6,6,6,7],\n",
    "                   'b' : [4,5,6,7,2,11,3]})"
   ]
  },
  {
   "cell_type": "code",
   "execution_count": 65,
   "id": "5f1bc4de-377e-4041-9e2c-fee52402d51e",
   "metadata": {},
   "outputs": [
    {
     "data": {
      "text/plain": [
       "<AxesSubplot: xlabel='a'>"
      ]
     },
     "execution_count": 65,
     "metadata": {},
     "output_type": "execute_result"
    },
    {
     "data": {
      "image/png": "[encoded data removed]",
      "text/plain": [
       "<Figure size 640x480 with 1 Axes>"
      ]
     },
     "metadata": {},
     "output_type": "display_data"
    }
   ],
   "source": [
    "dp.plot(x = 'a' , y = 'b')"
   ]
  },
  {
   "cell_type": "code",
   "execution_count": 66,
   "id": "52809154-910f-496a-bd84-5814b21a5101",
   "metadata": {},
   "outputs": [
    {
     "data": {
      "text/plain": [
       "<AxesSubplot: xlabel='a', ylabel='b'>"
      ]
     },
     "execution_count": 66,
     "metadata": {},
     "output_type": "execute_result"
    },
    {
     "data": {
      "image/png": "[encoded data removed]",
      "text/plain": [
       "<Figure size 640x480 with 1 Axes>"
      ]
     },
     "metadata": {},
     "output_type": "display_data"
    }
   ],
   "source": [
    "dp.plot.scatter(x = 'a' , y = 'b')"
   ]
  },
  {
   "cell_type": "code",
   "execution_count": 71,
   "id": "58872b90-5d59-4a7c-a2cf-e29e3054fa41",
   "metadata": {},
   "outputs": [],
   "source": [
    "d = pd.Series([1,2,3,4,5,56,67,7,4,33,2])\n"
   ]
  },
  {
   "cell_type": "code",
   "execution_count": 72,
   "id": "01d49a54-6551-4997-b78e-58fd03b95595",
   "metadata": {},
   "outputs": [
    {
     "data": {
      "text/plain": [
       "0      1\n",
       "1      2\n",
       "2      3\n",
       "3      4\n",
       "4      5\n",
       "5     56\n",
       "6     67\n",
       "7      7\n",
       "8      4\n",
       "9     33\n",
       "10     2\n",
       "dtype: int64"
      ]
     },
     "execution_count": 72,
     "metadata": {},
     "output_type": "execute_result"
    }
   ],
   "source": [
    "d"
   ]
  },
  {
   "cell_type": "code",
   "execution_count": 73,
   "id": "052d0ada-b20c-48cd-8109-7b1fef83c18b",
   "metadata": {},
   "outputs": [
    {
     "data": {
      "text/plain": [
       "<AxesSubplot: >"
      ]
     },
     "execution_count": 73,
     "metadata": {},
     "output_type": "execute_result"
    },
    {
     "data": {
      "image/png": "[encoded data removed]",
      "text/plain": [
       "<Figure size 640x480 with 1 Axes>"
      ]
     },
     "metadata": {},
     "output_type": "display_data"
    }
   ],
   "source": [
    "d.plot.pie()"
   ]
  },
  {
   "cell_type": "code",
   "execution_count": null,
   "id": "bb34074d-6df9-46bc-b162-a77cb3ffe312",
   "metadata": {},
   "outputs": [],
   "source": []
  },
  {
   "cell_type": "code",
   "execution_count": null,
   "id": "af94bd91-bb66-424b-ac7b-80e2d824d35c",
   "metadata": {},
   "outputs": [],
   "source": []
  },
  {
   "cell_type": "code",
   "execution_count": null,
   "id": "a30fd7df-275b-4e10-ae91-2ad0ea1a4945",
   "metadata": {},
   "outputs": [],
   "source": []
  },
  {
   "cell_type": "code",
   "execution_count": null,
   "id": "7283e654-eb93-455e-b71e-19f783600019",
   "metadata": {},
   "outputs": [],
   "source": []
  }
 ],
 "metadata": {
  "kernelspec": {
   "display_name": "Python 3 (ipykernel)",
   "language": "python",
   "name": "python3"
  },
  "language_info": {
   "codemirror_mode": {
    "name": "ipython",
    "version": 3
   },
   "file_extension": ".py",
   "mimetype": "text/x-python",
   "name": "python",
   "nbconvert_exporter": "python",
   "pygments_lexer": "ipython3",
   "version": "3.10.8"
  }
 },
 "nbformat": 4,
 "nbformat_minor": 5
}
